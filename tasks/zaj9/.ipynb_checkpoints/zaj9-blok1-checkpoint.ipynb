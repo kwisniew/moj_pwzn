{
 "worksheets": [
  {
   "cells": [
    {
     "cell_type": "code",
     "metadata": {},
     "outputs": [],
     "input": [
      "%matplotlib inline\n",
      "from matplotlib import pylab"
     ],
     "language": "python",
     "prompt_number": 97
    },
    {
     "cell_type": "heading",
     "metadata": {},
     "level": 1,
     "source": [
      "Systemy rozproszone w Pythonie"
     ]
    },
    {
     "cell_type": "markdown",
     "metadata": {},
     "source": [
      "Temat jest dość rozległy, poruszymy takie tematy: \n",
      "\n",
      "* Programowanie równoległe za pomocą Ipython notebooka \n",
      "* Tworzenie rozproszonych systemów akwizycji i kontroli danych\n",
      "\n",
      " * Metody serializacji danych \n",
      " * Biblioteka Pyro \n",
      " * Zwykłe sockety w Pythonie"
     ]
    },
    {
     "cell_type": "heading",
     "metadata": {},
     "level": 1,
     "source": [
      "Bezpieczeństwo a  ``ipython notebook``"
     ]
    },
    {
     "cell_type": "markdown",
     "metadata": {},
     "source": [
      "Ipython notebook (z grubsza) składa się z takich komponentów: \n",
      "\n",
      "* Aplikacji klienckiej \n",
      "* Kontrolera \n",
      "* Silników wykonujących obliczenia\n",
      "\n",
      "Wykorzystuje połączenia sieciowe między takimi komponentami: \n",
      "\n",
      "* Między użytkownikiem a komputerem na którym jest uruchomiony (protokół HTTP(S))\n",
      "* Między kontolerem a silnikami (protokół ZeroMQ)\n",
      "\n",
      "Interfejs WWW `ipython notebooka` pozwala na połączenia tylko na lokalnym interfejsie sieciowym, jest to bezpieczne **jeśli na komputerze nie mogą zalogować się inni użytkownicy**. W innym przypadku należy skonfigurować połączenia [HTTPS i ustawić hasło][1] \n",
      "\n",
      "Wewnętrzne połączenia między kontrolerem a silnikami **nie są szyfrowane**, ale są audentykowane --- tj. osoby trzecie [nie powinny mieć możliwości][2] wysłania komendy Waszemu notebookowi. \n",
      "\n",
      "[1]: http://ipython.org/ipython-doc/1/interactive/public_server.html\n",
      "[2]: http://ipython.org/ipython-doc/dev/parallel/parallel_security.html"
     ]
    },
    {
     "cell_type": "heading",
     "metadata": {},
     "level": 2,
     "source": [
      "Model rozproszonych obliczeń ipython notebooka"
     ]
    },
    {
     "cell_type": "markdown",
     "metadata": {},
     "source": [
      "By wykonywać rozproszone obliczenia w notebooku należy skonfigurować (i uruchomić) silniki notebooka, silniki są normalnymi procesami ipythona, które posiadają: \n",
      "\n",
      "* Zdefiniowane zmienne globalne\n",
      "* Zaimportowane moduły\n",
      "\n",
      "Jeśli uruchamiacie notebooka na jednej maszynie starczy przejść na zakładkę `clusters` i kliknąć w start przy `default`. Silniki mogą być uruchomione na innych komputerach niż konroler. "
     ]
    },
    {
     "cell_type": "code",
     "metadata": {},
     "outputs": [],
     "input": [
      "from IPython.parallel import Client\n",
      "rc = Client(profile='default')\n",
      "# lbview = rc.load_balanced_view()\n",
      "dview = rc.direct_view()"
     ],
     "language": "python",
     "prompt_number": 1
    },
    {
     "cell_type": "markdown",
     "metadata": {},
     "source": [
      "Od tej chwili działa \"cell magic\" ``%%px`` która pozwala na wykonanie poleceń na silnikach"
     ]
    },
    {
     "cell_type": "code",
     "metadata": {},
     "outputs": [],
     "input": [
      "import numpy as np"
     ],
     "language": "python",
     "prompt_number": 2
    },
    {
     "cell_type": "code",
     "metadata": {},
     "outputs": [],
     "input": [
      "%%px\n",
      "import numpy as np\n",
      "data = np.random.randint(0, 1000, 1000)"
     ],
     "language": "python",
     "prompt_number": 3
    },
    {
     "cell_type": "code",
     "metadata": {},
     "outputs": [
      {
       "ename": "NameError",
       "evalue": "name 'data' is not defined",
       "output_type": "pyerr",
       "traceback": [
        "\u001b[1;31m---------------------------------------------------------------------------\u001b[0m\n\u001b[1;31mNameError\u001b[0m                                 Traceback (most recent call last)",
        "\u001b[1;32m<ipython-input-5-68bbd564230b>\u001b[0m in \u001b[0;36m<module>\u001b[1;34m()\u001b[0m\n\u001b[1;32m----> 1\u001b[1;33m \u001b[0mdata\u001b[0m \u001b[1;31m# Dane są stworzone na silnikach a nie w lokalnym kontekście\u001b[0m\u001b[1;33m\u001b[0m\u001b[0m\n\u001b[0m",
        "\u001b[1;31mNameError\u001b[0m: name 'data' is not defined"
       ]
      }
     ],
     "input": [
      "data # Dane są stworzone na silnikach a nie w lokalnym kontekście"
     ],
     "language": "python",
     "prompt_number": 5
    },
    {
     "cell_type": "code",
     "metadata": {},
     "outputs": [],
     "input": [
      "res = dview.pull('data') # Można je pobrać"
     ],
     "language": "python",
     "prompt_number": 7
    },
    {
     "cell_type": "code",
     "metadata": {},
     "outputs": [
      {
       "output_type": "pyout",
       "prompt_number": 8,
       "text": [
        "8"
       ],
       "metadata": {}
      }
     ],
     "input": [
      "len(res)"
     ],
     "language": "python",
     "prompt_number": 8
    },
    {
     "cell_type": "heading",
     "metadata": {},
     "level": 3,
     "source": [
      "Wysyłanie danych na silniki"
     ]
    },
    {
     "cell_type": "markdown",
     "metadata": {},
     "source": [
      "Powiedzmy że mam wykonać bardzo drogą operację dla każdego elementu dużej macierzy: "
     ]
    },
    {
     "cell_type": "code",
     "metadata": {},
     "outputs": [],
     "input": [
      "%%px\n",
      "\n",
      "def operation(data): \n",
      "    import time\n",
      "    start = time.monotonic()\n",
      "    while (time.monotonic() - start) < 3: \n",
      "        pass\n",
      "    return np.sum(data)"
     ],
     "language": "python",
     "prompt_number": 16
    },
    {
     "cell_type": "code",
     "metadata": {},
     "outputs": [],
     "input": [
      "data = np.random.randint(0, 1000, (40, 100000))"
     ],
     "language": "python",
     "prompt_number": 17
    },
    {
     "cell_type": "markdown",
     "metadata": {},
     "source": [
      "Teraz dzielę dane na tyle fragmentów ile jest silników i wysyłam każdemu silnikowi kawałek danych do obliczenia: "
     ]
    },
    {
     "cell_type": "code",
     "metadata": {},
     "outputs": [
      {
       "output_type": "pyout",
       "prompt_number": 18,
       "text": [
        "<AsyncResult: scatter>"
       ],
       "metadata": {}
      }
     ],
     "input": [
      "dview.scatter('data', data) # Przesyłam dane do silników"
     ],
     "language": "python",
     "prompt_number": 18
    },
    {
     "cell_type": "code",
     "metadata": {},
     "outputs": [],
     "input": [
      "%%px\n",
      "\n",
      "l = len(data)"
     ],
     "language": "python",
     "prompt_number": 28
    },
    {
     "cell_type": "code",
     "metadata": {},
     "outputs": [
      {
       "output_type": "pyout",
       "prompt_number": 31,
       "text": [
        "[5, 5, 5, 5, 5, 5, 5, 5]"
       ],
       "metadata": {}
      }
     ],
     "input": [
      "dview.pull('l', block=True)[:] # Widzimy że każdy silnik dostął fragment tablicy"
     ],
     "language": "python",
     "prompt_number": 31
    },
    {
     "cell_type": "code",
     "metadata": {},
     "outputs": [],
     "input": [
      "%%px \n",
      "result = []\n",
      "for d in data: \n",
      "    result.append(operation(data))"
     ],
     "language": "python",
     "prompt_number": 19
    },
    {
     "cell_type": "markdown",
     "metadata": {},
     "source": [
      "Teraz wykonywane są obliczenia i mogę pobrać wyniki:"
     ]
    },
    {
     "cell_type": "code",
     "metadata": {},
     "outputs": [],
     "input": [
      "result = dview.pull('result')"
     ],
     "language": "python",
     "prompt_number": 21
    },
    {
     "cell_type": "code",
     "metadata": {},
     "outputs": [
      {
       "output_type": "pyout",
       "prompt_number": 22,
       "text": [
        "[[249593560, 249593560, 249593560, 249593560, 249593560],\n",
        " [249472603, 249472603, 249472603, 249472603, 249472603],\n",
        " [249962424, 249962424, 249962424, 249962424, 249962424],\n",
        " [249931359, 249931359, 249931359, 249931359, 249931359],\n",
        " [249853609, 249853609, 249853609, 249853609, 249853609],\n",
        " [249941310, 249941310, 249941310, 249941310, 249941310],\n",
        " [249689677, 249689677, 249689677, 249689677, 249689677],\n",
        " [249511521, 249511521, 249511521, 249511521, 249511521]]"
       ],
       "metadata": {}
      }
     ],
     "input": [
      "result[:]"
     ],
     "language": "python",
     "prompt_number": 22
    },
    {
     "cell_type": "markdown",
     "metadata": {},
     "source": [
      "Scatter **dzieli** tablice na kilka części, powiedzmy że chcemy policzyć iloczyn $\\mathbf{A_i} * \\mathbf{B}$ dla kilkunastu tablic $\\mathbf{A_i}$. "
     ]
    },
    {
     "cell_type": "code",
     "metadata": {},
     "outputs": [],
     "input": [
      "A = np.random.randint(0, 1000, (40, 1000, 1000))\n",
      "B = np.random.randint(0, 1000, (1000, 1000))"
     ],
     "language": "python",
     "prompt_number": 24
    },
    {
     "cell_type": "code",
     "metadata": {},
     "outputs": [
      {
       "output_type": "pyout",
       "prompt_number": 25,
       "text": [
        "<AsyncResult: _push>"
       ],
       "metadata": {}
      }
     ],
     "input": [
      "dview.scatter('A', A) # Przesyłam dane do silników\n",
      "dview.push({\"B\": B})"
     ],
     "language": "python",
     "prompt_number": 25
    },
    {
     "cell_type": "markdown",
     "metadata": {},
     "source": [
      "Tablica A jest przesyłana w kawałkach a B jest przesłane całe"
     ]
    },
    {
     "cell_type": "code",
     "metadata": {},
     "outputs": [],
     "input": [
      "%%px \n",
      "\n",
      "C = []\n",
      "for Ai in A: \n",
      "    C.append(np.dot(Ai, B))"
     ],
     "language": "python",
     "prompt_number": 33
    },
    {
     "cell_type": "code",
     "metadata": {},
     "outputs": [],
     "input": [
      "res = dview.pull('C')"
     ],
     "language": "python",
     "prompt_number": 36
    },
    {
     "cell_type": "heading",
     "metadata": {},
     "level": 3,
     "source": [
      "Operacje ``map`` za pomocą widoków"
     ]
    },
    {
     "cell_type": "code",
     "metadata": {},
     "outputs": [],
     "input": [
      "from IPython.parallel import Client\n",
      "rc = Client(profile='default')\n",
      "lbview = rc.load_balanced_view()\n",
      "dview = rc.direct_view()"
     ],
     "language": "python",
     "prompt_number": 55
    },
    {
     "cell_type": "markdown",
     "metadata": {},
     "source": [
      "Generalnie operacje ``scatter`` i ``pull`` można wyrazić za pomocą jednej operacji ``map``."
     ]
    },
    {
     "cell_type": "code",
     "metadata": {},
     "outputs": [],
     "input": [
      "def operation(A): \n",
      "    return np.dot(A, A)"
     ],
     "language": "python",
     "prompt_number": 56
    },
    {
     "cell_type": "code",
     "metadata": {},
     "outputs": [],
     "input": [
      "res = dview.map(operation, A)"
     ],
     "language": "python",
     "prompt_number": 57
    },
    {
     "cell_type": "code",
     "metadata": {},
     "outputs": [
      {
       "output_type": "stream",
       "stream": "stdout",
       "text": [
        "   8/8 tasks finished after    0 s"
       ]
      },
      {
       "output_type": "stream",
       "stream": "stdout",
       "text": [
        "\n",
        "done\n"
       ]
      }
     ],
     "input": [
      "res.wait_interactive()"
     ],
     "language": "python",
     "prompt_number": 58
    },
    {
     "cell_type": "code",
     "metadata": {},
     "outputs": [],
     "input": [
      "res = lbview.map(operation, A)"
     ],
     "language": "python",
     "prompt_number": 64
    },
    {
     "cell_type": "code",
     "metadata": {},
     "outputs": [
      {
       "output_type": "stream",
       "stream": "stdout",
       "text": [
        "  40/40 tasks finished after    0 s"
       ]
      },
      {
       "output_type": "stream",
       "stream": "stdout",
       "text": [
        "\n",
        "done\n"
       ]
      }
     ],
     "input": [
      "res.wait_interactive()"
     ],
     "language": "python",
     "prompt_number": 63
    },
    {
     "cell_type": "markdown",
     "metadata": {},
     "source": [
      "Różnica między ``direct_view`` a ``load_balanced_view`` jest taka że ``direct_view`` dzieli dane na tyle części ile jest **silników** i każdy silnik dostaje paczkę danych do przetworzenia, a ``load_balanced_view`` działa w taki sposób że silnik potwierdza wykonanie każdego zadania z ``map`` i wtedy dostaje nowe. "
     ]
    },
    {
     "cell_type": "heading",
     "metadata": {},
     "level": 3,
     "source": [
      "Bonus: Interaktywne widgety w Ipython notebooki"
     ]
    },
    {
     "cell_type": "code",
     "metadata": {},
     "outputs": [],
     "input": [
      "from IPython.html import widgets # Widget definitions\n",
      "from IPython.display import display, clear_output # Used to display widgets in the notebook"
     ],
     "language": "python",
     "prompt_number": 99
    },
    {
     "cell_type": "code",
     "metadata": {},
     "outputs": [],
     "input": [
      "mywidget = widgets.FloatSliderWidget()"
     ],
     "language": "python",
     "prompt_number": 90
    },
    {
     "cell_type": "code",
     "metadata": {},
     "outputs": [
      {
       "output_type": "stream",
       "stream": "stdout",
       "text": [
        "0.4\n"
       ]
      },
      {
       "output_type": "stream",
       "stream": "stdout",
       "text": [
        "1.5\n"
       ]
      },
      {
       "output_type": "stream",
       "stream": "stdout",
       "text": [
        "8.4\n"
       ]
      },
      {
       "output_type": "stream",
       "stream": "stdout",
       "text": [
        "11.9\n"
       ]
      },
      {
       "output_type": "stream",
       "stream": "stdout",
       "text": [
        "15.3\n"
       ]
      },
      {
       "output_type": "stream",
       "stream": "stdout",
       "text": [
        "18.5\n"
       ]
      },
      {
       "output_type": "stream",
       "stream": "stdout",
       "text": [
        "21.4\n"
       ]
      },
      {
       "output_type": "stream",
       "stream": "stdout",
       "text": [
        "27.4\n"
       ]
      },
      {
       "output_type": "stream",
       "stream": "stdout",
       "text": [
        "30.3\n"
       ]
      },
      {
       "output_type": "stream",
       "stream": "stdout",
       "text": [
        "32.0\n"
       ]
      },
      {
       "output_type": "stream",
       "stream": "stdout",
       "text": [
        "34.3\n"
       ]
      },
      {
       "output_type": "stream",
       "stream": "stdout",
       "text": [
        "35.2\n"
       ]
      },
      {
       "output_type": "stream",
       "stream": "stdout",
       "text": [
        "36.6\n"
       ]
      },
      {
       "output_type": "stream",
       "stream": "stdout",
       "text": [
        "38.0\n"
       ]
      },
      {
       "output_type": "stream",
       "stream": "stdout",
       "text": [
        "39.5\n"
       ]
      },
      {
       "output_type": "stream",
       "stream": "stdout",
       "text": [
        "41.5\n"
       ]
      },
      {
       "output_type": "stream",
       "stream": "stdout",
       "text": [
        "42.3\n"
       ]
      },
      {
       "output_type": "stream",
       "stream": "stdout",
       "text": [
        "43.5\n"
       ]
      },
      {
       "output_type": "stream",
       "stream": "stdout",
       "text": [
        "43.8\n"
       ]
      },
      {
       "output_type": "stream",
       "stream": "stdout",
       "text": [
        "44.4\n"
       ]
      },
      {
       "output_type": "stream",
       "stream": "stdout",
       "text": [
        "45.2\n"
       ]
      },
      {
       "output_type": "stream",
       "stream": "stdout",
       "text": [
        "45.8\n"
       ]
      },
      {
       "output_type": "stream",
       "stream": "stdout",
       "text": [
        "46.1\n"
       ]
      },
      {
       "output_type": "stream",
       "stream": "stdout",
       "text": [
        "46.4\n"
       ]
      },
      {
       "output_type": "stream",
       "stream": "stdout",
       "text": [
        "46.7\n"
       ]
      },
      {
       "output_type": "stream",
       "stream": "stdout",
       "text": [
        "46.9\n"
       ]
      },
      {
       "output_type": "stream",
       "stream": "stdout",
       "text": [
        "48.1\n"
       ]
      },
      {
       "output_type": "stream",
       "stream": "stdout",
       "text": [
        "49.2\n"
       ]
      },
      {
       "output_type": "stream",
       "stream": "stdout",
       "text": [
        "50.7\n"
       ]
      },
      {
       "output_type": "stream",
       "stream": "stdout",
       "text": [
        "52.1\n"
       ]
      },
      {
       "output_type": "stream",
       "stream": "stdout",
       "text": [
        "53.6\n"
       ]
      },
      {
       "output_type": "stream",
       "stream": "stdout",
       "text": [
        "55.0\n"
       ]
      },
      {
       "output_type": "stream",
       "stream": "stdout",
       "text": [
        "55.8\n"
       ]
      },
      {
       "output_type": "stream",
       "stream": "stdout",
       "text": [
        "55.0\n"
       ]
      },
      {
       "output_type": "stream",
       "stream": "stdout",
       "text": [
        "51.8\n"
       ]
      },
      {
       "output_type": "stream",
       "stream": "stdout",
       "text": [
        "48.4\n"
       ]
      },
      {
       "output_type": "stream",
       "stream": "stdout",
       "text": [
        "35.7\n"
       ]
      },
      {
       "output_type": "stream",
       "stream": "stdout",
       "text": [
        "28.0\n"
       ]
      },
      {
       "output_type": "stream",
       "stream": "stdout",
       "text": [
        "23.7\n"
       ]
      },
      {
       "output_type": "stream",
       "stream": "stdout",
       "text": [
        "22.2\n"
       ]
      },
      {
       "output_type": "stream",
       "stream": "stdout",
       "text": [
        "20.2\n"
       ]
      },
      {
       "output_type": "stream",
       "stream": "stdout",
       "text": [
        "19.6\n"
       ]
      },
      {
       "output_type": "stream",
       "stream": "stdout",
       "text": [
        "19.1\n"
       ]
      },
      {
       "output_type": "stream",
       "stream": "stdout",
       "text": [
        "17.9\n"
       ]
      },
      {
       "output_type": "stream",
       "stream": "stdout",
       "text": [
        "17.6\n"
       ]
      },
      {
       "output_type": "stream",
       "stream": "stdout",
       "text": [
        "17.3\n"
       ]
      },
      {
       "output_type": "stream",
       "stream": "stdout",
       "text": [
        "15.9\n"
       ]
      },
      {
       "output_type": "stream",
       "stream": "stdout",
       "text": [
        "15.3\n"
       ]
      },
      {
       "output_type": "stream",
       "stream": "stdout",
       "text": [
        "13.9\n"
       ]
      },
      {
       "output_type": "stream",
       "stream": "stdout",
       "text": [
        "12.2\n"
       ]
      },
      {
       "output_type": "stream",
       "stream": "stdout",
       "text": [
        "11.9\n"
       ]
      },
      {
       "output_type": "stream",
       "stream": "stdout",
       "text": [
        "11.6\n"
       ]
      },
      {
       "output_type": "stream",
       "stream": "stdout",
       "text": [
        "11.3\n"
       ]
      },
      {
       "output_type": "stream",
       "stream": "stdout",
       "text": [
        "11.6\n"
       ]
      },
      {
       "output_type": "stream",
       "stream": "stdout",
       "text": [
        "12.2\n"
       ]
      },
      {
       "output_type": "stream",
       "stream": "stdout",
       "text": [
        "14.8\n"
       ]
      },
      {
       "output_type": "stream",
       "stream": "stdout",
       "text": [
        "21.9\n"
       ]
      },
      {
       "output_type": "stream",
       "stream": "stdout",
       "text": [
        "29.4\n"
       ]
      },
      {
       "output_type": "stream",
       "stream": "stdout",
       "text": [
        "36.9\n"
       ]
      },
      {
       "output_type": "stream",
       "stream": "stdout",
       "text": [
        "44.6\n"
       ]
      },
      {
       "output_type": "stream",
       "stream": "stdout",
       "text": [
        "51.0\n"
       ]
      },
      {
       "output_type": "stream",
       "stream": "stdout",
       "text": [
        "52.7\n"
       ]
      },
      {
       "output_type": "stream",
       "stream": "stdout",
       "text": [
        "56.1\n"
       ]
      },
      {
       "output_type": "stream",
       "stream": "stdout",
       "text": [
        "61.0\n"
       ]
      },
      {
       "output_type": "stream",
       "stream": "stdout",
       "text": [
        "65.3\n"
       ]
      },
      {
       "output_type": "stream",
       "stream": "stdout",
       "text": [
        "69.9\n"
       ]
      },
      {
       "output_type": "stream",
       "stream": "stdout",
       "text": [
        "71.9\n"
       ]
      },
      {
       "output_type": "stream",
       "stream": "stdout",
       "text": [
        "72.8\n"
       ]
      },
      {
       "output_type": "stream",
       "stream": "stdout",
       "text": [
        "74.5\n"
       ]
      },
      {
       "output_type": "stream",
       "stream": "stdout",
       "text": [
        "75.4\n"
       ]
      },
      {
       "output_type": "stream",
       "stream": "stdout",
       "text": [
        "76.5\n"
       ]
      },
      {
       "output_type": "stream",
       "stream": "stdout",
       "text": [
        "77.1\n"
       ]
      },
      {
       "output_type": "stream",
       "stream": "stdout",
       "text": [
        "77.7\n"
       ]
      },
      {
       "output_type": "stream",
       "stream": "stdout",
       "text": [
        "78.3\n"
       ]
      },
      {
       "output_type": "stream",
       "stream": "stdout",
       "text": [
        "77.4\n"
       ]
      },
      {
       "output_type": "stream",
       "stream": "stdout",
       "text": [
        "74.5\n"
       ]
      },
      {
       "output_type": "stream",
       "stream": "stdout",
       "text": [
        "65.6\n"
       ]
      },
      {
       "output_type": "stream",
       "stream": "stdout",
       "text": [
        "50.4\n"
       ]
      },
      {
       "output_type": "stream",
       "stream": "stdout",
       "text": [
        "41.5\n"
       ]
      },
      {
       "output_type": "stream",
       "stream": "stdout",
       "text": [
        "36.3\n"
       ]
      },
      {
       "output_type": "stream",
       "stream": "stdout",
       "text": [
        "34.6\n"
       ]
      },
      {
       "output_type": "stream",
       "stream": "stdout",
       "text": [
        "33.4\n"
       ]
      },
      {
       "output_type": "stream",
       "stream": "stdout",
       "text": [
        "32.3\n"
       ]
      },
      {
       "output_type": "stream",
       "stream": "stdout",
       "text": [
        "32.0\n"
       ]
      },
      {
       "output_type": "stream",
       "stream": "stdout",
       "text": [
        "31.4\n"
       ]
      },
      {
       "output_type": "stream",
       "stream": "stdout",
       "text": [
        "30.8\n"
       ]
      }
     ],
     "input": [
      "mywidget"
     ],
     "language": "python",
     "prompt_number": 91
    },
    {
     "cell_type": "code",
     "metadata": {},
     "outputs": [],
     "input": [
      "mywidget.on_trait_change(lambda: print(mywidget.value), 'value')"
     ],
     "language": "python",
     "prompt_number": 92
    },
    {
     "cell_type": "code",
     "metadata": {},
     "outputs": [
      {
       "output_type": "stream",
       "stream": "stdout",
       "text": [
        "{'n': 11}\n"
       ]
      }
     ],
     "input": [
      "widgets.interact(lambda **kwargs: print(kwargs), n=(0,20))"
     ],
     "language": "python",
     "prompt_number": 73
    },
    {
     "cell_type": "code",
     "metadata": {},
     "outputs": [],
     "input": [
      "widgets.interaction?"
     ],
     "language": "python",
     "prompt_number": 77
    },
    {
     "cell_type": "code",
     "metadata": {},
     "outputs": [
      {
       "metadata": {}
      },
      {
       "output_type": "display_data",
       "png": "[encoded data removed]",
       "text": [
        "<matplotlib.figure.Figure at 0x7fdce95923c8>"
       ],
       "metadata": {}
      }
     ],
     "input": [
      "values = []\n",
      "\n",
      "def myfunc(): \n",
      "    v = plot_widget.value\n",
      "    values.append(v)\n",
      "    clear_output()\n",
      "    display(pylab.plot(values))\n",
      "    \n",
      "plot_widget = widgets.FloatSliderWidget()\n",
      "plot_widget.on_trait_change(myfunc, 'value')\n",
      "display(plot_widget)"
     ],
     "language": "python",
     "prompt_number": 100
    },
    {
     "cell_type": "code",
     "metadata": {},
     "outputs": [],
     "input": [
      ""
     ],
     "language": "python"
    }
   ]
  }
 ],
 "cells": [],
 "metadata": {
  "name": "",
  "signature": "sha256:6f7e3247ce412c9459daa3f1640e3fdd9849d2f5a990148b3f36c5e6d8061a84"
 },
 "nbformat": 3,
 "nbformat_minor": 0
}